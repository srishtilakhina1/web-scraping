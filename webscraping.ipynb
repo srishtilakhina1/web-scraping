{
 "cells": [
  {
   "cell_type": "code",
   "execution_count": 1,
   "id": "8db55b72-4705-44c8-be6d-8a7b4dc06811",
   "metadata": {},
   "outputs": [],
   "source": [
    "import pandas as pd\n",
    "import requests\n",
    "from bs4 import BeautifulSoup\n",
    "import lxml"
   ]
  },
  {
   "cell_type": "code",
   "execution_count": 2,
   "id": "0318b617-b74c-4bd2-a410-90465daf423c",
   "metadata": {},
   "outputs": [],
   "source": [
    "Product_Name=[]\n",
    "Prices=[]\n",
    "Description=[]"
   ]
  },
  {
   "cell_type": "code",
   "execution_count": 3,
   "id": "4400c8fc-847e-4b2a-9c8c-82e7b1c740db",
   "metadata": {},
   "outputs": [
    {
     "name": "stdout",
     "output_type": "stream",
     "text": [
      "240\n",
      "240\n",
      "240\n"
     ]
    }
   ],
   "source": [
    "for i in range(2,12):\n",
    "    url=\"https://www.flipkart.com/search?q=mobiles+under+50000&otracker=search&otracker1=search&marketplace=FLIPKART&as-show=on&as=off&page=\"+str(i)\n",
    "    r=requests.get(url)\n",
    "    Soup=BeautifulSoup(r.text,\"lxml\")\n",
    "    box=Soup.find(\"div\",class_=\"_1YokD2 _3Mn1Gg\")\n",
    "    Names=box.find_all(\"div\",class_=\"_4rR01T\")\n",
    "    #print(Names)\n",
    "    for i in Names:\n",
    "        name=i.text\n",
    "        Product_Name.append(name)\n",
    "    #print(Product_Name)\n",
    "    prices=box.find_all(\"div\",class_=\"_30jeq3 _1_WHN1\")\n",
    "    for i in prices:\n",
    "        name=i.text\n",
    "        Prices.append(name)\n",
    "    #print(Prices)\n",
    "    desc=box.find_all(\"ul\",class_=\"_1xgFaf\")\n",
    "    for i in desc:\n",
    "        name=i.text\n",
    "        Description.append(name)\n",
    "    #print(Description)\n",
    "print(len(Product_Name))\n",
    "print(len(Prices))\n",
    "print(len(Description))\n",
    "\n",
    "df=pd.DataFrame({\"Product_Name\":Product_Name,\"Prices\":Prices,\"Description\":Description})\n",
    "#print(df)\n",
    "df.to_csv(\"flipkarts_mobile_under50000.csv\")\n",
    "\n",
    "\n",
    "\n",
    "\n",
    "\n",
    "\n",
    "\n",
    "\n",
    "\n",
    "\n",
    "\n",
    "\n",
    "\n",
    "\n",
    "\n",
    "\n",
    "\n",
    "\n",
    "\n",
    "\n",
    "\n",
    "\n",
    "\n",
    "\n",
    "\n"
   ]
  },
  {
   "cell_type": "code",
   "execution_count": null,
   "id": "fe360b66-09b3-476f-821d-6a4c78a83b6b",
   "metadata": {},
   "outputs": [],
   "source": []
  }
 ],
 "metadata": {
  "kernelspec": {
   "display_name": "Python 3 (ipykernel)",
   "language": "python",
   "name": "python3"
  },
  "language_info": {
   "codemirror_mode": {
    "name": "ipython",
    "version": 3
   },
   "file_extension": ".py",
   "mimetype": "text/x-python",
   "name": "python",
   "nbconvert_exporter": "python",
   "pygments_lexer": "ipython3",
   "version": "3.12.2"
  }
 },
 "nbformat": 4,
 "nbformat_minor": 5
}
